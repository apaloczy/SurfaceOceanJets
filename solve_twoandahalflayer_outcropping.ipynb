{
 "cells": [
  {
   "cell_type": "markdown",
   "id": "983395f9-2f56-4520-bf5f-fe7f5cdc5e20",
   "metadata": {},
   "source": [
    "# Solution of the linear system for the unknowns in the 2.5 layer problem with upper layer outcropping"
   ]
  },
  {
   "cell_type": "markdown",
   "id": "d40eb348-1a3f-4fdd-9dab-00a97e593092",
   "metadata": {},
   "source": [
    "This notebook solves the linear problem associated with Equations (25-29) in the Supplementary Materials.\n",
    "The constants $A_{1r}$, $B_{1r}$, $A_{2r}$, $B_{2r}$, $A_{2l}$ are the unknowns."
   ]
  },
  {
   "cell_type": "code",
   "execution_count": 1,
   "id": "19a1d8d4-357b-4ddb-a986-3f5c253f3b17",
   "metadata": {},
   "outputs": [],
   "source": [
    "from sympy import symbols, Symbol, Function, Matrix"
   ]
  },
  {
   "cell_type": "code",
   "execution_count": 2,
   "id": "2cd59650-9036-48ab-b526-bd55a8fb08fa",
   "metadata": {},
   "outputs": [],
   "source": [
    "A1r, B1r, A2r, B2r, A2l = symbols(\"A_{1r}, B_{1r}, A_{2r}, B_{2r}, A_{2l}\", real=True, constant=True) # Constants to solve for."
   ]
  },
  {
   "cell_type": "code",
   "execution_count": 3,
   "id": "eb9308dc-ba4c-4d5e-9fc0-5b086dec74e9",
   "metadata": {},
   "outputs": [],
   "source": [
    "H1l, H1r, H2l, H2r = symbols(\"H_{1l}, H_{1r}, H_{2l}, H_{2r}\", real=True, constant=True) # Constants."
   ]
  },
  {
   "cell_type": "code",
   "execution_count": 4,
   "id": "24fc66f1-c3be-4cd8-abec-2d4a4801dd75",
   "metadata": {},
   "outputs": [],
   "source": [
    "a1m, a1p, a2m, a2p, Gp = symbols(\"a_1^-, a_1^+, a_2^-, a_2^+, G'\", real=True, constant=True) # Other constants\n",
    "L1l, L1r, L2l, L2r, DH2 = symbols(\"L_{1l}, L_{1r}, L_{2l}, L_{2r}, DH_2\", real=True, constant=True) # Other constants"
   ]
  },
  {
   "cell_type": "markdown",
   "id": "947237ca-a8c0-4f21-bee5-882833d9dbfc",
   "metadata": {},
   "source": [
    "## Set up the matrix of coefficients to invert."
   ]
  },
  {
   "cell_type": "code",
   "execution_count": 5,
   "id": "f7c26018-af6e-411e-a6a2-c52e3e382a88",
   "metadata": {},
   "outputs": [],
   "source": [
    "M31 = Gp*a1p/L1r\n",
    "M32 = Gp*a1m/L1r\n",
    "M33 = a2p/L2r\n",
    "M34 = a2m/L2r\n",
    "M35 = 1/L2l\n",
    "\n",
    "M41 = a1p/L1r\n",
    "M42 = a1m/L1r\n",
    "M43 = a2p/L2r\n",
    "M44 = a2m/L2r\n",
    "M45 = 1/L2l\n",
    "\n",
    "M51 = -L1r/a1p\n",
    "M52 = -L1r/a1m\n",
    "M53 = (H1r*L2r)/(DH2*a2p)\n",
    "M54 = (H1r*L2r)/(DH2*a2m)\n",
    "M55 = (H1r*L2l)/DH2"
   ]
  },
  {
   "cell_type": "code",
   "execution_count": 6,
   "id": "656a24e1-de45-4166-94df-8a0dbca2cab2",
   "metadata": {},
   "outputs": [],
   "source": [
    "A = Matrix(5, 6, [M31, M32, M33, M34, M35, 0, M41, M42, M43, M44, M45, 0, M51, M52, M53, M54, M55, 0, -1, -1, 0, 0, 0, H1r, 0, 0, -1, -1, +1, DH2])\n",
    "B = A[:, -1]"
   ]
  },
  {
   "cell_type": "code",
   "execution_count": 7,
   "id": "bdf84dac-6ff7-4db3-b473-7f0235e037f4",
   "metadata": {},
   "outputs": [
    {
     "data": {
      "text/latex": [
       "$\\displaystyle \\left[\\begin{matrix}\\frac{G' a^{+}_{1}}{L_{1r}} & \\frac{G' a^{-}_{1}}{L_{1r}} & \\frac{a^{+}_{2}}{L_{2r}} & \\frac{a^{-}_{2}}{L_{2r}} & \\frac{1}{L_{2l}} & 0\\\\\\frac{a^{+}_{1}}{L_{1r}} & \\frac{a^{-}_{1}}{L_{1r}} & \\frac{a^{+}_{2}}{L_{2r}} & \\frac{a^{-}_{2}}{L_{2r}} & \\frac{1}{L_{2l}} & 0\\\\- \\frac{L_{1r}}{a^{+}_{1}} & - \\frac{L_{1r}}{a^{-}_{1}} & \\frac{H_{1r} L_{2r}}{DH_{2} a^{+}_{2}} & \\frac{H_{1r} L_{2r}}{DH_{2} a^{-}_{2}} & \\frac{H_{1r} L_{2l}}{DH_{2}} & 0\\\\-1 & -1 & 0 & 0 & 0 & H_{1r}\\\\0 & 0 & -1 & -1 & 1 & DH_{2}\\end{matrix}\\right]$"
      ],
      "text/plain": [
       "Matrix([\n",
       "[G'*a_1^+/L_{1r}, G'*a_1^-/L_{1r},               a_2^+/L_{2r},               a_2^-/L_{2r},           1/L_{2l},      0],\n",
       "[   a_1^+/L_{1r},    a_1^-/L_{1r},               a_2^+/L_{2r},               a_2^-/L_{2r},           1/L_{2l},      0],\n",
       "[  -L_{1r}/a_1^+,   -L_{1r}/a_1^-, H_{1r}*L_{2r}/(DH_2*a_2^+), H_{1r}*L_{2r}/(DH_2*a_2^-), H_{1r}*L_{2l}/DH_2,      0],\n",
       "[             -1,              -1,                          0,                          0,                  0, H_{1r}],\n",
       "[              0,               0,                         -1,                         -1,                  1,   DH_2]])"
      ]
     },
     "execution_count": 7,
     "metadata": {},
     "output_type": "execute_result"
    }
   ],
   "source": [
    "A"
   ]
  },
  {
   "cell_type": "code",
   "execution_count": 8,
   "id": "22b47d1f-9075-4cf9-b552-cb345d7606b4",
   "metadata": {},
   "outputs": [
    {
     "data": {
      "text/latex": [
       "$\\displaystyle \\left[\\begin{matrix}0\\\\0\\\\0\\\\H_{1r}\\\\DH_{2}\\end{matrix}\\right]$"
      ],
      "text/plain": [
       "Matrix([\n",
       "[     0],\n",
       "[     0],\n",
       "[     0],\n",
       "[H_{1r}],\n",
       "[  DH_2]])"
      ]
     },
     "execution_count": 8,
     "metadata": {},
     "output_type": "execute_result"
    }
   ],
   "source": [
    "B"
   ]
  },
  {
   "cell_type": "code",
   "execution_count": 9,
   "id": "571d7c40-093c-4b8f-a0fb-dace77daba7b",
   "metadata": {},
   "outputs": [],
   "source": [
    "Alhs = A[:, :-1]\n",
    "Ainv = Alhs.inv()"
   ]
  },
  {
   "cell_type": "code",
   "execution_count": 10,
   "id": "413ac88d-5265-46da-8071-228ebe542bb4",
   "metadata": {},
   "outputs": [],
   "source": [
    "Vsol = Ainv*B"
   ]
  },
  {
   "cell_type": "code",
   "execution_count": 11,
   "id": "9c4934e9-6389-45a9-99af-92f2c672b131",
   "metadata": {},
   "outputs": [
    {
     "data": {
      "text/latex": [
       "$\\displaystyle \\left[\\begin{matrix}\\frac{H_{1r} a^{-}_{1}}{a^{+}_{1} - a^{-}_{1}}\\\\- \\frac{H_{1r} a^{+}_{1}}{a^{+}_{1} - a^{-}_{1}}\\\\\\frac{DH_{2} \\left(L_{2l} a^{+}_{2} a^{-}_{2} - L_{2r} a^{+}_{2}\\right)}{L_{2l} \\left(a^{+}_{2}\\right)^{2} - L_{2l} a^{+}_{2} a^{-}_{2} + L_{2r} a^{+}_{2} - L_{2r} a^{-}_{2}} + \\frac{H_{1r} \\left(DH_{2} L_{1r} a^{+}_{1} a^{+}_{2} a^{-}_{2} + DH_{2} L_{1r} a^{-}_{1} a^{+}_{2} a^{-}_{2}\\right)}{H_{1r} L_{2l} a^{+}_{1} a^{-}_{1} \\left(a^{+}_{2}\\right)^{2} - H_{1r} L_{2l} a^{+}_{1} a^{-}_{1} a^{+}_{2} a^{-}_{2} + H_{1r} L_{2r} a^{+}_{1} a^{-}_{1} a^{+}_{2} - H_{1r} L_{2r} a^{+}_{1} a^{-}_{1} a^{-}_{2}}\\\\\\frac{DH_{2} \\left(- L_{2l} a^{+}_{2} a^{-}_{2} + L_{2r} a^{-}_{2}\\right)}{L_{2l} a^{+}_{2} a^{-}_{2} - L_{2l} \\left(a^{-}_{2}\\right)^{2} + L_{2r} a^{+}_{2} - L_{2r} a^{-}_{2}} + \\frac{H_{1r} \\left(- DH_{2} L_{1r} a^{+}_{1} a^{+}_{2} a^{-}_{2} - DH_{2} L_{1r} a^{-}_{1} a^{+}_{2} a^{-}_{2}\\right)}{H_{1r} L_{2l} a^{+}_{1} a^{-}_{1} a^{+}_{2} a^{-}_{2} - H_{1r} L_{2l} a^{+}_{1} a^{-}_{1} \\left(a^{-}_{2}\\right)^{2} + H_{1r} L_{2r} a^{+}_{1} a^{-}_{1} a^{+}_{2} - H_{1r} L_{2r} a^{+}_{1} a^{-}_{1} a^{-}_{2}}\\\\\\frac{DH_{2} \\left(L_{2l} L_{2r} a^{+}_{2} + L_{2l} L_{2r} a^{-}_{2}\\right)}{L_{2l}^{2} a^{+}_{2} a^{-}_{2} + L_{2l} L_{2r} a^{+}_{2} + L_{2l} L_{2r} a^{-}_{2} + L_{2r}^{2}} + \\frac{H_{1r} \\left(- DH_{2} L_{1r} L_{2l} a^{+}_{1} a^{+}_{2} a^{-}_{2} - DH_{2} L_{1r} L_{2l} a^{-}_{1} a^{+}_{2} a^{-}_{2}\\right)}{H_{1r} L_{2l}^{2} a^{+}_{1} a^{-}_{1} a^{+}_{2} a^{-}_{2} + H_{1r} L_{2l} L_{2r} a^{+}_{1} a^{-}_{1} a^{+}_{2} + H_{1r} L_{2l} L_{2r} a^{+}_{1} a^{-}_{1} a^{-}_{2} + H_{1r} L_{2r}^{2} a^{+}_{1} a^{-}_{1}}\\end{matrix}\\right]$"
      ],
      "text/plain": [
       "Matrix([\n",
       "[                                                                                                                                                                                                                                                                                                                                                        H_{1r}*a_1^-/(a_1^+ - a_1^-)],\n",
       "[                                                                                                                                                                                                                                                                                                                                                       -H_{1r}*a_1^+/(a_1^+ - a_1^-)],\n",
       "[                                             DH_2*(L_{2l}*a_2^+*a_2^- - L_{2r}*a_2^+)/(L_{2l}*a_2^+**2 - L_{2l}*a_2^+*a_2^- + L_{2r}*a_2^+ - L_{2r}*a_2^-) + H_{1r}*(DH_2*L_{1r}*a_1^+*a_2^+*a_2^- + DH_2*L_{1r}*a_1^-*a_2^+*a_2^-)/(H_{1r}*L_{2l}*a_1^+*a_1^-*a_2^+**2 - H_{1r}*L_{2l}*a_1^+*a_1^-*a_2^+*a_2^- + H_{1r}*L_{2r}*a_1^+*a_1^-*a_2^+ - H_{1r}*L_{2r}*a_1^+*a_1^-*a_2^-)],\n",
       "[                                           DH_2*(-L_{2l}*a_2^+*a_2^- + L_{2r}*a_2^-)/(L_{2l}*a_2^+*a_2^- - L_{2l}*a_2^-**2 + L_{2r}*a_2^+ - L_{2r}*a_2^-) + H_{1r}*(-DH_2*L_{1r}*a_1^+*a_2^+*a_2^- - DH_2*L_{1r}*a_1^-*a_2^+*a_2^-)/(H_{1r}*L_{2l}*a_1^+*a_1^-*a_2^+*a_2^- - H_{1r}*L_{2l}*a_1^+*a_1^-*a_2^-**2 + H_{1r}*L_{2r}*a_1^+*a_1^-*a_2^+ - H_{1r}*L_{2r}*a_1^+*a_1^-*a_2^-)],\n",
       "[DH_2*(L_{2l}*L_{2r}*a_2^+ + L_{2l}*L_{2r}*a_2^-)/(L_{2l}**2*a_2^+*a_2^- + L_{2l}*L_{2r}*a_2^+ + L_{2l}*L_{2r}*a_2^- + L_{2r}**2) + H_{1r}*(-DH_2*L_{1r}*L_{2l}*a_1^+*a_2^+*a_2^- - DH_2*L_{1r}*L_{2l}*a_1^-*a_2^+*a_2^-)/(H_{1r}*L_{2l}**2*a_1^+*a_1^-*a_2^+*a_2^- + H_{1r}*L_{2l}*L_{2r}*a_1^+*a_1^-*a_2^+ + H_{1r}*L_{2l}*L_{2r}*a_1^+*a_1^-*a_2^- + H_{1r}*L_{2r}**2*a_1^+*a_1^-)]])"
      ]
     },
     "execution_count": 11,
     "metadata": {},
     "output_type": "execute_result"
    }
   ],
   "source": [
    "Vsol # [A1r, B1r, A2r, B2r, A2l]^T"
   ]
  },
  {
   "cell_type": "code",
   "execution_count": 12,
   "id": "4c8860af-6ed4-44e1-a11b-846753132d81",
   "metadata": {},
   "outputs": [],
   "source": [
    "A1r, B1r, A2r, B2r, A2l = Vsol"
   ]
  },
  {
   "cell_type": "code",
   "execution_count": 13,
   "id": "225961a3-7b6b-4fc1-a4cc-75fd721d7fcd",
   "metadata": {},
   "outputs": [
    {
     "data": {
      "text/latex": [
       "$\\displaystyle \\frac{H_{1r} a^{-}_{1}}{a^{+}_{1} - a^{-}_{1}}$"
      ],
      "text/plain": [
       "H_{1r}*a_1^-/(a_1^+ - a_1^-)"
      ]
     },
     "execution_count": 13,
     "metadata": {},
     "output_type": "execute_result"
    }
   ],
   "source": [
    "A1r"
   ]
  },
  {
   "cell_type": "code",
   "execution_count": 14,
   "id": "d12417f3-1ad7-4034-98cf-730ba672fc95",
   "metadata": {},
   "outputs": [
    {
     "data": {
      "text/latex": [
       "$\\displaystyle - \\frac{H_{1r} a^{+}_{1}}{a^{+}_{1} - a^{-}_{1}}$"
      ],
      "text/plain": [
       "-H_{1r}*a_1^+/(a_1^+ - a_1^-)"
      ]
     },
     "execution_count": 14,
     "metadata": {},
     "output_type": "execute_result"
    }
   ],
   "source": [
    "B1r"
   ]
  },
  {
   "cell_type": "code",
   "execution_count": 15,
   "id": "f936601c-cc75-458e-b813-90dbfa635d38",
   "metadata": {},
   "outputs": [
    {
     "data": {
      "text/latex": [
       "$\\displaystyle \\frac{DH_{2} a^{+}_{2} \\left(L_{1r} a^{-}_{2} \\left(a^{+}_{1} + a^{-}_{1}\\right) + a^{+}_{1} a^{-}_{1} \\left(L_{2l} a^{-}_{2} - L_{2r}\\right)\\right)}{a^{+}_{1} a^{-}_{1} \\left(L_{2l} \\left(a^{+}_{2}\\right)^{2} - L_{2l} a^{+}_{2} a^{-}_{2} + L_{2r} a^{+}_{2} - L_{2r} a^{-}_{2}\\right)}$"
      ],
      "text/plain": [
       "DH_2*a_2^+*(L_{1r}*a_2^-*(a_1^+ + a_1^-) + a_1^+*a_1^-*(L_{2l}*a_2^- - L_{2r}))/(a_1^+*a_1^-*(L_{2l}*a_2^+**2 - L_{2l}*a_2^+*a_2^- + L_{2r}*a_2^+ - L_{2r}*a_2^-))"
      ]
     },
     "execution_count": 15,
     "metadata": {},
     "output_type": "execute_result"
    }
   ],
   "source": [
    "A2r.simplify()"
   ]
  },
  {
   "cell_type": "code",
   "execution_count": 16,
   "id": "e48250c0-b6c9-4f99-9dd6-c2153e854fb7",
   "metadata": {},
   "outputs": [
    {
     "data": {
      "text/latex": [
       "$\\displaystyle \\frac{DH_{2} a^{-}_{2} \\left(- L_{1r} a^{+}_{2} \\left(a^{+}_{1} + a^{-}_{1}\\right) - a^{+}_{1} a^{-}_{1} \\left(L_{2l} a^{+}_{2} - L_{2r}\\right)\\right)}{a^{+}_{1} a^{-}_{1} \\left(L_{2l} a^{+}_{2} a^{-}_{2} - L_{2l} \\left(a^{-}_{2}\\right)^{2} + L_{2r} a^{+}_{2} - L_{2r} a^{-}_{2}\\right)}$"
      ],
      "text/plain": [
       "DH_2*a_2^-*(-L_{1r}*a_2^+*(a_1^+ + a_1^-) - a_1^+*a_1^-*(L_{2l}*a_2^+ - L_{2r}))/(a_1^+*a_1^-*(L_{2l}*a_2^+*a_2^- - L_{2l}*a_2^-**2 + L_{2r}*a_2^+ - L_{2r}*a_2^-))"
      ]
     },
     "execution_count": 16,
     "metadata": {},
     "output_type": "execute_result"
    }
   ],
   "source": [
    "B2r.simplify()"
   ]
  },
  {
   "cell_type": "code",
   "execution_count": 17,
   "id": "e6453a7c-d272-4ee8-bc6e-8cddaf391081",
   "metadata": {},
   "outputs": [
    {
     "data": {
      "text/latex": [
       "$\\displaystyle \\frac{DH_{2} L_{2l} \\left(- L_{1r} a^{+}_{2} a^{-}_{2} \\left(a^{+}_{1} + a^{-}_{1}\\right) + L_{2r} a^{+}_{1} a^{-}_{1} \\left(a^{+}_{2} + a^{-}_{2}\\right)\\right)}{a^{+}_{1} a^{-}_{1} \\left(L_{2l}^{2} a^{+}_{2} a^{-}_{2} + L_{2l} L_{2r} a^{+}_{2} + L_{2l} L_{2r} a^{-}_{2} + L_{2r}^{2}\\right)}$"
      ],
      "text/plain": [
       "DH_2*L_{2l}*(-L_{1r}*a_2^+*a_2^-*(a_1^+ + a_1^-) + L_{2r}*a_1^+*a_1^-*(a_2^+ + a_2^-))/(a_1^+*a_1^-*(L_{2l}**2*a_2^+*a_2^- + L_{2l}*L_{2r}*a_2^+ + L_{2l}*L_{2r}*a_2^- + L_{2r}**2))"
      ]
     },
     "execution_count": 17,
     "metadata": {},
     "output_type": "execute_result"
    }
   ],
   "source": [
    "A2l.simplify()"
   ]
  },
  {
   "cell_type": "markdown",
   "id": "ffe9d9c7-1ba9-489b-bc33-c6a6896ade47",
   "metadata": {},
   "source": [
    "## Substitute constants back in the general solution to check.\n",
    "### The general solutions are (Equations 18-20 in the Supplementary Materials):\n",
    "\n",
    "\\begin{eqnarray}\n",
    "h_{2l} = A_{2l}e^{(x - d)/L_{2l}} + H_{2l}, \\hspace{0.75cm} \\text{for} \\hspace{0.75cm} x < d,\\\\\n",
    "h_{2r} = A_{2r}e^{-a_2^+(x - d)/L_{2r}} + B_{2r}e^{-a_2^-(x - d)/L_{2r}} + H_{2r}, \\hspace{0.75cm} \\text{for} \\hspace{0.75cm} x > d,\\\\\n",
    "h_1 = A_{1r}e^{-a_1^+(x - d)/L_{1r}} + B_{1r}e^{-a_1^-(x - d)/L_{1r}} + H_{1r}, \\hspace{0.75cm} \\text{for} \\hspace{0.75cm} x > d,\n",
    "\\end{eqnarray}"
   ]
  }
 ],
 "metadata": {
  "kernelspec": {
   "display_name": "Python 3 (ipykernel)",
   "language": "python",
   "name": "python3"
  },
  "language_info": {
   "codemirror_mode": {
    "name": "ipython",
    "version": 3
   },
   "file_extension": ".py",
   "mimetype": "text/x-python",
   "name": "python",
   "nbconvert_exporter": "python",
   "pygments_lexer": "ipython3",
   "version": "3.10.6"
  }
 },
 "nbformat": 4,
 "nbformat_minor": 5
}
